{
 "cells": [
  {
   "cell_type": "markdown",
   "metadata": {},
   "source": [
    "# World Happiness API Project\n",
    "\n",
    "## Data Preparation Workflow:\n",
    "\n",
    "1. Import Dataset from Local Machine\n",
    "2. Manipulate Dataset\n",
    "3. Save Data into SQLite Database File\n",
    "\n",
    "### ETL Workflow:\n",
    "\n",
    "![ETL](https://www.slideteam.net/media/catalog/product/cache/960x720/t/h/three_components_of_etl_process_flow_model_slide01.jpg)"
   ]
  },
  {
   "cell_type": "code",
   "execution_count": null,
   "metadata": {
    "ExecuteTime": {
     "end_time": "2021-12-20T05:16:43.813215Z",
     "start_time": "2021-12-20T05:16:42.954591Z"
    }
   },
   "outputs": [],
   "source": [
    "# Import Dependencies\n",
    "import pandas as pd\n",
    "import random\n",
    "import os\n",
    "import csv\n",
    "import requests\n",
    "import json\n",
    "import numpy as np"
   ]
  },
  {
   "cell_type": "code",
   "execution_count": null,
   "metadata": {
    "ExecuteTime": {
     "end_time": "2021-12-20T05:37:54.530376Z",
     "start_time": "2021-12-20T05:37:54.511314Z"
    }
   },
   "outputs": [],
   "source": [
    "# Import data from csv file\n",
    "\n",
    "happypath = os.path.join(\"..\", \"data\", \"happy.csv\")\n",
    "ginipath = os.path.join(\"..\", \"data\", \"gini.csv\")\n",
    "gdppath = os.path.join(\"..\", \"data\", \"pop.csv\")\n",
    "geopath = os.path.join(\"..\", \"data\", \"geo.csv\")\n",
    "happipath = os.path.join(\"..\", \"data\", \"happiness.csv\")\n",
    "\n",
    "happy_df = pd.read_csv(happypath)\n",
    "gini_df = pd.read_csv(ginipath)\n",
    "gdp_df = pd.read_csv(gdppath)\n",
    "geo_df = pd.read_csv(geopath, encoding='latin-1')\n",
    "happi_df = pd.read_csv(happipath)\n"
   ]
  },
  {
   "cell_type": "code",
   "execution_count": null,
   "metadata": {
    "ExecuteTime": {
     "end_time": "2021-12-20T05:16:44.512949Z",
     "start_time": "2021-12-20T05:16:44.504543Z"
    }
   },
   "outputs": [],
   "source": [
    "happy_df.index"
   ]
  },
  {
   "cell_type": "code",
   "execution_count": null,
   "metadata": {
    "ExecuteTime": {
     "end_time": "2021-12-20T05:59:46.299055Z",
     "start_time": "2021-12-20T05:59:46.275727Z"
    },
    "scrolled": true
   },
   "outputs": [],
   "source": [
    "# Extract the most recent year data for each country (higher performance)\n",
    "happiness_df = happy_df.loc[happy_df.groupby(['Country name'])['Year'].idxmax()].reset_index(drop=True)\n",
    "happiness_df"
   ]
  },
  {
   "cell_type": "code",
   "execution_count": null,
   "metadata": {
    "ExecuteTime": {
     "end_time": "2021-12-20T05:33:54.505092Z",
     "start_time": "2021-12-20T05:33:54.478281Z"
    }
   },
   "outputs": [],
   "source": [
    "# Create a loop to extract the most recent year data for each country (control workflow)\n",
    "country = []\n",
    "year = []\n",
    "happiness = []\n",
    "\n",
    "for i in happy_df.index:\n",
    "    if i < happy_df.shape[0]-1:\n",
    "        if happy_df[\"Year\"][i] < happy_df[\"Year\"][i+1]:\n",
    "            continue\n",
    "            # print(happy_df[\"Year\"][i])\n",
    "        else:\n",
    "            country.append(happy_df[\"Country name\"][i])\n",
    "            year.append(happy_df[\"Year\"][i])\n",
    "            happiness.append(happy_df[\"Life Ladder\"][i])\n",
    "    else:\n",
    "        break   "
   ]
  },
  {
   "cell_type": "code",
   "execution_count": null,
   "metadata": {
    "ExecuteTime": {
     "end_time": "2021-12-20T06:10:38.684364Z",
     "start_time": "2021-12-20T06:10:38.670804Z"
    }
   },
   "outputs": [],
   "source": [
    "# Create a new dataframe to hold the data from the loop\n",
    "\n",
    "# happiness_df = pd.DataFrame(list(zip(country, year, happiness)),\n",
    "#                           columns=[\"country\", \"year\", \"happiness\"])\n",
    "happiness_df[\"Year\"] = happiness_df[\"Year\"].astype(str)\n",
    "happiness_df = happiness_df.rename(index=str, columns={\"Country name\":\"country_name\", \n",
    "                                                       \"Life Ladder\":\"happiness\",\n",
    "                                                      \"Year\":\"year\"})\n",
    "happiness_df = happiness_df.round({\"happiness\": 3})\n",
    "happiness_df"
   ]
  },
  {
   "cell_type": "code",
   "execution_count": null,
   "metadata": {
    "ExecuteTime": {
     "end_time": "2021-12-20T06:04:14.808470Z",
     "start_time": "2021-12-20T06:04:14.783906Z"
    }
   },
   "outputs": [],
   "source": [
    "# Extract the most recent year data for each country (higher performance)\n",
    "gini_index_df = gini_df.loc[gini_df.groupby(['Country Name'])['Year'].idxmax()].reset_index(drop=True)\n",
    "gini_index_df"
   ]
  },
  {
   "cell_type": "code",
   "execution_count": null,
   "metadata": {
    "ExecuteTime": {
     "end_time": "2021-12-20T05:56:53.528746Z",
     "start_time": "2021-12-20T05:56:53.505093Z"
    }
   },
   "outputs": [],
   "source": [
    "# Create a loop to extract the most recent year data for each country\n",
    "country = []\n",
    "country_code = []\n",
    "year = []\n",
    "gini = []\n",
    "\n",
    "for i in gini_df.index:\n",
    "    if i < gini_df.shape[0]-1:\n",
    "        if gini_df[\"Year\"][i] < gini_df[\"Year\"][i+1]:\n",
    "            continue\n",
    "            # print(gini_df[\"Year\"][i])\n",
    "        else:\n",
    "            country.append(gini_df[\"Country Name\"][i])\n",
    "            country_code.append(gini_df[\"Country Code\"][i])\n",
    "            year.append(gini_df[\"Year\"][i])\n",
    "            gini.append(gini_df[\"Value\"][i])\n",
    "    else:\n",
    "        break"
   ]
  },
  {
   "cell_type": "code",
   "execution_count": null,
   "metadata": {
    "ExecuteTime": {
     "end_time": "2021-12-20T05:56:54.074559Z",
     "start_time": "2021-12-20T05:56:54.071126Z"
    }
   },
   "outputs": [],
   "source": [
    "# Create a new dataframe to hold the data from the loop\n",
    "dict = {\"country_name\":country, \"code\":country_code, \"gyear\":year, \"gini\":gini}\n",
    "gini_index_df = pd.DataFrame(dict)"
   ]
  },
  {
   "cell_type": "code",
   "execution_count": null,
   "metadata": {
    "ExecuteTime": {
     "end_time": "2021-12-20T06:07:35.084147Z",
     "start_time": "2021-12-20T06:07:35.071379Z"
    }
   },
   "outputs": [],
   "source": [
    "# Rename the columns \n",
    "gini_index_df = gini_index_df.rename(index=str, columns={\"Country Name\":\"country_name\", \n",
    "                                                        \"Country Code\":\"code\",\n",
    "                                                        \"Year\":\"gyear\",\n",
    "                                                        \"Value\":\"gini\"})\n",
    "gini_index_df[\"gyear\"] = gini_index_df[\"gyear\"].astype(str)\n",
    "gini_index_df"
   ]
  },
  {
   "cell_type": "code",
   "execution_count": null,
   "metadata": {
    "ExecuteTime": {
     "end_time": "2021-12-17T05:35:55.213402Z",
     "start_time": "2021-12-17T05:35:55.209234Z"
    }
   },
   "outputs": [],
   "source": [
    "# Check column names in gdp_df\n",
    "list(gdp_df.columns.values)"
   ]
  },
  {
   "cell_type": "code",
   "execution_count": null,
   "metadata": {
    "ExecuteTime": {
     "end_time": "2021-12-20T06:07:54.595163Z",
     "start_time": "2021-12-20T06:07:54.590166Z"
    }
   },
   "outputs": [],
   "source": [
    "# Extract information from GDP dataframe\n",
    "gdp_reduced_df = gdp_df[['country_name', 'region_id', 'gdp', 'population_population_number_of_people']]\n",
    "demo_df = gdp_reduced_df.dropna()"
   ]
  },
  {
   "cell_type": "code",
   "execution_count": null,
   "metadata": {
    "ExecuteTime": {
     "end_time": "2021-12-20T05:53:25.545676Z",
     "start_time": "2021-12-20T05:53:25.518434Z"
    }
   },
   "outputs": [],
   "source": [
    "# Loop through the data and extract the data for the project\n",
    "country = []\n",
    "region_id = []\n",
    "gdp = []\n",
    "pop = []\n",
    "\n",
    "for i in gdp_df.index:\n",
    "    if i < gdp_df.shape[0]-1:\n",
    "        mask = gdp_df['gdp'].isna()\n",
    "        if mask[i] == True:\n",
    "            continue\n",
    "            # print(gdp_df[\"country_name\"][i])\n",
    "        else:\n",
    "            country.append(gdp_df[\"country_name\"][i])\n",
    "            region_id.append(gdp_df[\"region_id\"][i])\n",
    "            gdp.append(gdp_df[\"gdp\"][i])\n",
    "            pop.append(gdp_df[\"population_population_number_of_people\"][i])\n",
    "    else:\n",
    "        break"
   ]
  },
  {
   "cell_type": "code",
   "execution_count": null,
   "metadata": {
    "ExecuteTime": {
     "end_time": "2021-12-20T05:53:34.202164Z",
     "start_time": "2021-12-20T05:53:34.198990Z"
    }
   },
   "outputs": [],
   "source": [
    "# Create a new dataframe to hold the data\n",
    "pop = {\"country_name\":country, \"region_id\":region_id, \n",
    "       \"gdp\":gdp, \"population\":pop}\n",
    "demo_df = pd.DataFrame(pop)"
   ]
  },
  {
   "cell_type": "code",
   "execution_count": null,
   "metadata": {
    "ExecuteTime": {
     "end_time": "2021-12-20T06:09:20.866115Z",
     "start_time": "2021-12-20T06:09:20.856004Z"
    },
    "scrolled": false
   },
   "outputs": [],
   "source": [
    "# Rename the columns\n",
    "demo_df = demo_df.rename(index=str, columns={\"population_population_number_of_people\":\"population\"})\n",
    "demo_df.head()"
   ]
  },
  {
   "cell_type": "code",
   "execution_count": null,
   "metadata": {
    "ExecuteTime": {
     "end_time": "2021-12-20T06:09:36.830257Z",
     "start_time": "2021-12-20T06:09:36.821265Z"
    }
   },
   "outputs": [],
   "source": [
    "geo_df = geo_df.rename(index=str, columns={\"name\":\"country_name\"})\n",
    "geo_df.head()"
   ]
  },
  {
   "cell_type": "code",
   "execution_count": null,
   "metadata": {
    "ExecuteTime": {
     "end_time": "2021-12-20T06:10:44.814082Z",
     "start_time": "2021-12-20T06:10:44.810974Z"
    }
   },
   "outputs": [],
   "source": [
    "print(gini_index_df[\"gyear\"].dtype)\n",
    "print(happiness_df[\"year\"].dtype)"
   ]
  },
  {
   "cell_type": "code",
   "execution_count": null,
   "metadata": {
    "ExecuteTime": {
     "end_time": "2021-12-20T06:10:53.311013Z",
     "start_time": "2021-12-20T06:10:53.305460Z"
    }
   },
   "outputs": [],
   "source": [
    "# Merging the dataframes\n",
    "joined_df = pd.merge(demo_df, geo_df, on='country_name', how='inner')"
   ]
  },
  {
   "cell_type": "code",
   "execution_count": null,
   "metadata": {
    "ExecuteTime": {
     "end_time": "2021-12-20T06:10:54.649458Z",
     "start_time": "2021-12-20T06:10:54.643802Z"
    }
   },
   "outputs": [],
   "source": [
    "joined_df = pd.merge(joined_df, gini_index_df, on=\"country_name\", how=\"inner\")"
   ]
  },
  {
   "cell_type": "code",
   "execution_count": null,
   "metadata": {
    "ExecuteTime": {
     "end_time": "2021-12-20T06:10:55.718295Z",
     "start_time": "2021-12-20T06:10:55.712450Z"
    }
   },
   "outputs": [],
   "source": [
    "joined_df = pd.merge(joined_df, happiness_df, on=\"country_name\", how=\"inner\")"
   ]
  },
  {
   "cell_type": "code",
   "execution_count": null,
   "metadata": {
    "ExecuteTime": {
     "end_time": "2021-12-20T06:11:02.187637Z",
     "start_time": "2021-12-20T06:11:02.171039Z"
    }
   },
   "outputs": [],
   "source": [
    "joined_df[\"gdpPerCap\"] = round(joined_df[\"gdp\"] / joined_df[\"population\"], 2)\n",
    "joined_df.head()\n",
    "# print(joined_df[\"gdpPerCap\"].min())"
   ]
  },
  {
   "cell_type": "code",
   "execution_count": null,
   "metadata": {
    "ExecuteTime": {
     "end_time": "2021-12-20T06:11:11.579413Z",
     "start_time": "2021-12-20T06:11:11.570355Z"
    }
   },
   "outputs": [],
   "source": [
    "# Export the dataframe to CSV file\n",
    "joined_df.to_csv(\"../outputs/joined_data.csv\", index=False, header=True)"
   ]
  },
  {
   "cell_type": "code",
   "execution_count": null,
   "metadata": {
    "ExecuteTime": {
     "end_time": "2021-12-20T06:11:14.050513Z",
     "start_time": "2021-12-20T06:11:14.045085Z"
    }
   },
   "outputs": [],
   "source": [
    "joined_df.groupby('region_id')['country_name'].nunique()"
   ]
  },
  {
   "cell_type": "code",
   "execution_count": null,
   "metadata": {
    "ExecuteTime": {
     "end_time": "2021-12-20T06:11:18.374362Z",
     "start_time": "2021-12-20T06:11:18.364714Z"
    }
   },
   "outputs": [],
   "source": [
    "joined_df.groupby('region_id')[['gini', 'happiness']].mean()"
   ]
  },
  {
   "cell_type": "code",
   "execution_count": null,
   "metadata": {
    "ExecuteTime": {
     "end_time": "2021-12-20T06:11:21.961013Z",
     "start_time": "2021-12-20T06:11:21.950884Z"
    }
   },
   "outputs": [],
   "source": [
    "joined_df.groupby(\"region_id\")[[\"population\", \"gdp\"]].sum()"
   ]
  },
  {
   "cell_type": "code",
   "execution_count": null,
   "metadata": {
    "ExecuteTime": {
     "end_time": "2021-12-20T06:11:27.112376Z",
     "start_time": "2021-12-20T06:11:27.108585Z"
    }
   },
   "outputs": [],
   "source": [
    "happi_df.head()\n",
    "list(happi_df)"
   ]
  },
  {
   "cell_type": "code",
   "execution_count": null,
   "metadata": {
    "ExecuteTime": {
     "end_time": "2021-12-20T06:11:33.185392Z",
     "start_time": "2021-12-20T06:11:33.176545Z"
    }
   },
   "outputs": [],
   "source": [
    "happy_df = pd.merge(happiness_df, geo_df, on='country_name', how='inner')\n",
    "print(len(happy_df))\n",
    "print(happy_df.head())"
   ]
  },
  {
   "cell_type": "code",
   "execution_count": null,
   "metadata": {
    "ExecuteTime": {
     "end_time": "2021-12-20T06:11:37.754245Z",
     "start_time": "2021-12-20T06:11:37.748434Z"
    }
   },
   "outputs": [],
   "source": [
    "# Export the dataframe and save it as a CSV file for later use\n",
    "happy_df.to_csv(\"../outputs/happy.csv\", index=False, header=True)"
   ]
  },
  {
   "cell_type": "code",
   "execution_count": null,
   "metadata": {
    "ExecuteTime": {
     "end_time": "2021-12-20T06:11:38.777269Z",
     "start_time": "2021-12-20T06:11:38.771376Z"
    }
   },
   "outputs": [],
   "source": [
    "gini_df = pd.merge(gini_index_df, geo_df, on='country_name', how='inner')\n",
    "print(len(gini_df))"
   ]
  },
  {
   "cell_type": "code",
   "execution_count": null,
   "metadata": {
    "ExecuteTime": {
     "end_time": "2021-12-20T06:11:41.690377Z",
     "start_time": "2021-12-20T06:11:41.685540Z"
    }
   },
   "outputs": [],
   "source": [
    "# Save data as CSV file for later use\n",
    "gini_df.to_csv(\"../outputs/gini.csv\", index=False, header=True)"
   ]
  },
  {
   "cell_type": "code",
   "execution_count": null,
   "metadata": {
    "ExecuteTime": {
     "end_time": "2021-12-20T06:11:42.495804Z",
     "start_time": "2021-12-20T06:11:42.489716Z"
    }
   },
   "outputs": [],
   "source": [
    "demo_df = pd.merge(demo_df, geo_df, on='country_name', how='inner')\n",
    "print(len(demo_df))"
   ]
  },
  {
   "cell_type": "code",
   "execution_count": null,
   "metadata": {
    "ExecuteTime": {
     "end_time": "2021-12-20T06:11:45.349790Z",
     "start_time": "2021-12-20T06:11:45.345212Z"
    }
   },
   "outputs": [],
   "source": [
    "# Save it as CSV file for later use\n",
    "demo_df.to_csv(\"../outputs/demographic.csv\", index=False, header=True)"
   ]
  },
  {
   "cell_type": "code",
   "execution_count": null,
   "metadata": {
    "ExecuteTime": {
     "end_time": "2021-12-20T06:12:09.852588Z",
     "start_time": "2021-12-20T06:12:09.523718Z"
    }
   },
   "outputs": [],
   "source": [
    "# Creating SQLite Database\n",
    "from sqlalchemy import create_engine, Column, Integer, String, Float, Text\n",
    "from sqlalchemy.ext.declarative import declarative_base\n",
    "from sqlalchemy.orm import Session\n",
    "Base = declarative_base()"
   ]
  },
  {
   "cell_type": "code",
   "execution_count": null,
   "metadata": {
    "ExecuteTime": {
     "end_time": "2021-12-20T06:12:10.929633Z",
     "start_time": "2021-12-20T06:12:10.923259Z"
    }
   },
   "outputs": [],
   "source": [
    "# Define the happiness table\n",
    "class Happiness(Base):\n",
    "    __tablename__ = \"happiness\"\n",
    "    id =Column(Integer, primary_key=True)\n",
    "    country = Column(String)\n",
    "    year = Column(Text)\n",
    "    happiness = Column(Float)\n",
    "    lat = Column(Float)\n",
    "    lon = Column(Float)"
   ]
  },
  {
   "cell_type": "code",
   "execution_count": null,
   "metadata": {
    "ExecuteTime": {
     "end_time": "2021-12-20T06:12:12.020072Z",
     "start_time": "2021-12-20T06:12:12.016418Z"
    }
   },
   "outputs": [],
   "source": [
    "# Table only exists in python and not in the actual database yet\n",
    "Base.metadata.tables"
   ]
  },
  {
   "cell_type": "code",
   "execution_count": null,
   "metadata": {
    "ExecuteTime": {
     "end_time": "2021-12-20T06:12:14.798796Z",
     "start_time": "2021-12-20T06:12:14.778170Z"
    }
   },
   "outputs": [],
   "source": [
    "# Create the database engine\n",
    "engine = create_engine(\"sqlite:///../db/data.sqlite\")\n"
   ]
  },
  {
   "cell_type": "code",
   "execution_count": null,
   "metadata": {
    "ExecuteTime": {
     "end_time": "2021-12-20T06:12:15.558665Z",
     "start_time": "2021-12-20T06:12:15.552841Z"
    }
   },
   "outputs": [],
   "source": [
    "# This is where the tables was created in the database\n",
    "Base.metadata.create_all(engine)"
   ]
  },
  {
   "cell_type": "code",
   "execution_count": null,
   "metadata": {
    "ExecuteTime": {
     "end_time": "2021-12-20T06:12:16.224174Z",
     "start_time": "2021-12-20T06:12:16.221802Z"
    }
   },
   "outputs": [],
   "source": [
    "# The ORM's \"handle\" to the database is the Session\n",
    "session = Session(engine)"
   ]
  },
  {
   "cell_type": "code",
   "execution_count": null,
   "metadata": {
    "ExecuteTime": {
     "end_time": "2021-12-20T06:12:17.274899Z",
     "start_time": "2021-12-20T06:12:17.259256Z"
    }
   },
   "outputs": [],
   "source": [
    "# Adding the data to the session\n",
    "\n",
    "for i in happy_df.index:\n",
    "    session.add(Happiness(\n",
    "        country = happy_df[\"country_name\"][i], \n",
    "        year = happy_df[\"year\"][i],\n",
    "        happiness = happy_df[\"happiness\"][i],\n",
    "        lat = happy_df[\"latitude\"][i],\n",
    "        lon = happy_df[\"longitude\"][i]\n",
    "    ))"
   ]
  },
  {
   "cell_type": "code",
   "execution_count": null,
   "metadata": {
    "ExecuteTime": {
     "end_time": "2021-12-20T06:12:19.231357Z",
     "start_time": "2021-12-20T06:12:19.227096Z"
    }
   },
   "outputs": [],
   "source": [
    "# Data has not been added to the database yet\n",
    "engine.execute(\"SELECT * FROM Happiness\").fetchall()"
   ]
  },
  {
   "cell_type": "code",
   "execution_count": null,
   "metadata": {
    "ExecuteTime": {
     "end_time": "2021-12-20T06:12:20.109540Z",
     "start_time": "2021-12-20T06:12:20.105989Z"
    },
    "scrolled": true
   },
   "outputs": [],
   "source": [
    "# Use the new attribute to see the queue of data ready to go into the database\n",
    "session.new"
   ]
  },
  {
   "cell_type": "code",
   "execution_count": null,
   "metadata": {
    "ExecuteTime": {
     "end_time": "2021-12-20T06:12:22.113963Z",
     "start_time": "2021-12-20T06:12:22.096591Z"
    }
   },
   "outputs": [],
   "source": [
    "# Commit flushes whatever remaining changes remain to the database and commits the transaction\n",
    "session.commit()"
   ]
  },
  {
   "cell_type": "code",
   "execution_count": null,
   "metadata": {
    "ExecuteTime": {
     "end_time": "2021-12-20T06:12:22.998784Z",
     "start_time": "2021-12-20T06:12:22.995444Z"
    }
   },
   "outputs": [],
   "source": [
    "# Confirm nothing new to add\n",
    "session.new"
   ]
  },
  {
   "cell_type": "code",
   "execution_count": null,
   "metadata": {
    "ExecuteTime": {
     "end_time": "2021-12-20T06:12:24.437338Z",
     "start_time": "2021-12-20T06:12:24.427606Z"
    }
   },
   "outputs": [],
   "source": [
    "# Query the database to check the data\n",
    "session.query(Happiness.country, Happiness.lat, Happiness.happiness).all()"
   ]
  },
  {
   "cell_type": "code",
   "execution_count": null,
   "metadata": {
    "ExecuteTime": {
     "end_time": "2021-12-20T06:12:28.500764Z",
     "start_time": "2021-12-20T06:12:28.496085Z"
    }
   },
   "outputs": [],
   "source": [
    "# Create a class for gini\n",
    "class Gini(Base):\n",
    "    __tablename__ = \"gini\"\n",
    "    id =Column(Integer, primary_key=True)\n",
    "    country = Column(String)\n",
    "    country_code = Column(String)\n",
    "    year = Column(Text)\n",
    "    gini = Column(Float)\n",
    "    lat = Column(Float)\n",
    "    lon = Column(Float)"
   ]
  },
  {
   "cell_type": "code",
   "execution_count": null,
   "metadata": {
    "ExecuteTime": {
     "end_time": "2021-12-20T06:12:29.372284Z",
     "start_time": "2021-12-20T06:12:29.368417Z"
    }
   },
   "outputs": [],
   "source": [
    "Base.metadata.tables"
   ]
  },
  {
   "cell_type": "code",
   "execution_count": null,
   "metadata": {
    "ExecuteTime": {
     "end_time": "2021-12-20T06:12:31.390716Z",
     "start_time": "2021-12-20T06:12:31.388105Z"
    }
   },
   "outputs": [],
   "source": [
    "engine = create_engine(\"sqlite:///../db/data.sqlite\")"
   ]
  },
  {
   "cell_type": "code",
   "execution_count": null,
   "metadata": {
    "ExecuteTime": {
     "end_time": "2021-12-20T06:12:32.035325Z",
     "start_time": "2021-12-20T06:12:32.030231Z"
    }
   },
   "outputs": [],
   "source": [
    "Base.metadata.create_all(engine)"
   ]
  },
  {
   "cell_type": "code",
   "execution_count": null,
   "metadata": {
    "ExecuteTime": {
     "end_time": "2021-12-20T06:12:32.626286Z",
     "start_time": "2021-12-20T06:12:32.624042Z"
    }
   },
   "outputs": [],
   "source": [
    "session = Session(engine)"
   ]
  },
  {
   "cell_type": "code",
   "execution_count": null,
   "metadata": {
    "ExecuteTime": {
     "end_time": "2021-12-20T06:12:33.225884Z",
     "start_time": "2021-12-20T06:12:33.210133Z"
    }
   },
   "outputs": [],
   "source": [
    "for i in gini_df.index:\n",
    "    session.add(Gini(\n",
    "        country = gini_df[\"country_name\"][i], \n",
    "        country_code = gini_df[\"code\"][i],\n",
    "        year = gini_df[\"gyear\"][i],\n",
    "        gini = gini_df[\"gini\"][i],\n",
    "        lat = gini_df[\"latitude\"][i],\n",
    "        lon = gini_df[\"longitude\"][i]\n",
    "    ))"
   ]
  },
  {
   "cell_type": "code",
   "execution_count": null,
   "metadata": {
    "ExecuteTime": {
     "end_time": "2021-12-20T06:12:33.833252Z",
     "start_time": "2021-12-20T06:12:33.828918Z"
    }
   },
   "outputs": [],
   "source": [
    "engine.execute(\"SELECT * FROM Gini\").fetchall()"
   ]
  },
  {
   "cell_type": "code",
   "execution_count": null,
   "metadata": {
    "ExecuteTime": {
     "end_time": "2021-12-20T06:12:34.507269Z",
     "start_time": "2021-12-20T06:12:34.503717Z"
    }
   },
   "outputs": [],
   "source": [
    "session.new"
   ]
  },
  {
   "cell_type": "code",
   "execution_count": null,
   "metadata": {
    "ExecuteTime": {
     "end_time": "2021-12-20T06:12:37.285151Z",
     "start_time": "2021-12-20T06:12:37.268676Z"
    }
   },
   "outputs": [],
   "source": [
    "session.commit()"
   ]
  },
  {
   "cell_type": "code",
   "execution_count": null,
   "metadata": {
    "ExecuteTime": {
     "end_time": "2021-12-20T06:12:37.854812Z",
     "start_time": "2021-12-20T06:12:37.851390Z"
    }
   },
   "outputs": [],
   "source": [
    "session.new"
   ]
  },
  {
   "cell_type": "code",
   "execution_count": null,
   "metadata": {
    "ExecuteTime": {
     "end_time": "2021-12-20T06:12:38.420704Z",
     "start_time": "2021-12-20T06:12:38.411925Z"
    }
   },
   "outputs": [],
   "source": [
    "session.query(Gini.country, Gini.country_code, Gini.year, Gini.gini).all()"
   ]
  },
  {
   "cell_type": "code",
   "execution_count": null,
   "metadata": {
    "ExecuteTime": {
     "end_time": "2021-12-20T06:12:39.646397Z",
     "start_time": "2021-12-20T06:12:39.641382Z"
    }
   },
   "outputs": [],
   "source": [
    "# Create a class for demographic\n",
    "class Demographic(Base):\n",
    "    __tablename__ = \"demographic\"\n",
    "    id =Column(Integer, primary_key=True)\n",
    "    country = Column(String)\n",
    "    region_id = Column(String)\n",
    "    year = Column(Text)\n",
    "    gdp = Column(Float)\n",
    "    population = Column(Float)\n",
    "    lat = Column(Float)\n",
    "    lon = Column(Float)"
   ]
  },
  {
   "cell_type": "code",
   "execution_count": null,
   "metadata": {
    "ExecuteTime": {
     "end_time": "2021-12-20T06:12:40.433479Z",
     "start_time": "2021-12-20T06:12:40.429753Z"
    }
   },
   "outputs": [],
   "source": [
    "Base.metadata.tables"
   ]
  },
  {
   "cell_type": "code",
   "execution_count": null,
   "metadata": {
    "ExecuteTime": {
     "end_time": "2021-12-20T06:12:41.160223Z",
     "start_time": "2021-12-20T06:12:41.157805Z"
    }
   },
   "outputs": [],
   "source": [
    "engine = create_engine(\"sqlite:///../db/data.sqlite\")"
   ]
  },
  {
   "cell_type": "code",
   "execution_count": null,
   "metadata": {
    "ExecuteTime": {
     "end_time": "2021-12-20T06:12:41.817675Z",
     "start_time": "2021-12-20T06:12:41.812670Z"
    }
   },
   "outputs": [],
   "source": [
    "Base.metadata.create_all(engine)"
   ]
  },
  {
   "cell_type": "code",
   "execution_count": null,
   "metadata": {
    "ExecuteTime": {
     "end_time": "2021-12-20T06:12:42.387076Z",
     "start_time": "2021-12-20T06:12:42.384803Z"
    }
   },
   "outputs": [],
   "source": [
    "session = Session(engine)"
   ]
  },
  {
   "cell_type": "code",
   "execution_count": null,
   "metadata": {
    "ExecuteTime": {
     "end_time": "2021-12-20T06:12:43.210293Z",
     "start_time": "2021-12-20T06:12:43.192702Z"
    }
   },
   "outputs": [],
   "source": [
    "demo_df"
   ]
  },
  {
   "cell_type": "code",
   "execution_count": null,
   "metadata": {
    "ExecuteTime": {
     "end_time": "2021-12-20T06:12:47.704184Z",
     "start_time": "2021-12-20T06:12:47.689048Z"
    }
   },
   "outputs": [],
   "source": [
    "for i in demo_df.index:\n",
    "    session.add(Demographic(\n",
    "        country = demo_df[\"country_name\"][i], \n",
    "        region_id = demo_df[\"region_id\"][i],\n",
    "        year = \"2018\",\n",
    "        gdp = demo_df[\"gdp\"][i],\n",
    "        population = demo_df[\"population\"][i],\n",
    "    ))"
   ]
  },
  {
   "cell_type": "code",
   "execution_count": null,
   "metadata": {
    "ExecuteTime": {
     "end_time": "2021-12-20T06:12:48.391554Z",
     "start_time": "2021-12-20T06:12:48.386982Z"
    }
   },
   "outputs": [],
   "source": [
    "engine.execute(\"SELECT * FROM Demographic\").fetchall()"
   ]
  },
  {
   "cell_type": "code",
   "execution_count": null,
   "metadata": {
    "ExecuteTime": {
     "end_time": "2021-12-20T06:12:49.105266Z",
     "start_time": "2021-12-20T06:12:49.101616Z"
    }
   },
   "outputs": [],
   "source": [
    "session.new"
   ]
  },
  {
   "cell_type": "code",
   "execution_count": null,
   "metadata": {
    "ExecuteTime": {
     "end_time": "2021-12-20T06:12:52.425694Z",
     "start_time": "2021-12-20T06:12:52.406684Z"
    }
   },
   "outputs": [],
   "source": [
    "session.commit()"
   ]
  },
  {
   "cell_type": "code",
   "execution_count": null,
   "metadata": {
    "ExecuteTime": {
     "end_time": "2021-12-20T06:12:52.851731Z",
     "start_time": "2021-12-20T06:12:52.848275Z"
    }
   },
   "outputs": [],
   "source": [
    "session.new"
   ]
  },
  {
   "cell_type": "code",
   "execution_count": null,
   "metadata": {
    "ExecuteTime": {
     "end_time": "2021-12-20T06:12:53.839580Z",
     "start_time": "2021-12-20T06:12:53.829788Z"
    }
   },
   "outputs": [],
   "source": [
    "session.query(Demographic.country, Demographic.region_id, Demographic.lat, Demographic.gdp, Demographic.population).all()"
   ]
  },
  {
   "cell_type": "code",
   "execution_count": null,
   "metadata": {},
   "outputs": [],
   "source": []
  },
  {
   "cell_type": "code",
   "execution_count": null,
   "metadata": {
    "ExecuteTime": {
     "end_time": "2021-12-20T06:12:57.622172Z",
     "start_time": "2021-12-20T06:12:57.617756Z"
    }
   },
   "outputs": [],
   "source": [
    "# Define the happiness table\n",
    "class Geo(Base):\n",
    "    __tablename__ = \"geo\"\n",
    "    id =Column(Integer, primary_key=True)\n",
    "    country = Column(String)\n",
    "    lat = Column(Float)\n",
    "    lon = Column(Float)\n",
    "    init = Column(String)"
   ]
  },
  {
   "cell_type": "code",
   "execution_count": null,
   "metadata": {
    "ExecuteTime": {
     "end_time": "2021-12-20T06:12:58.335873Z",
     "start_time": "2021-12-20T06:12:58.331793Z"
    }
   },
   "outputs": [],
   "source": [
    "Base.metadata.tables"
   ]
  },
  {
   "cell_type": "code",
   "execution_count": null,
   "metadata": {
    "ExecuteTime": {
     "end_time": "2021-12-20T06:12:59.219772Z",
     "start_time": "2021-12-20T06:12:59.217008Z"
    }
   },
   "outputs": [],
   "source": [
    "engine = create_engine(\"sqlite:///../db/data.sqlite\")"
   ]
  },
  {
   "cell_type": "code",
   "execution_count": null,
   "metadata": {
    "ExecuteTime": {
     "end_time": "2021-12-20T06:13:00.217712Z",
     "start_time": "2021-12-20T06:13:00.212186Z"
    }
   },
   "outputs": [],
   "source": [
    "Base.metadata.create_all(engine)"
   ]
  },
  {
   "cell_type": "code",
   "execution_count": null,
   "metadata": {
    "ExecuteTime": {
     "end_time": "2021-12-20T06:13:00.848378Z",
     "start_time": "2021-12-20T06:13:00.846126Z"
    }
   },
   "outputs": [],
   "source": [
    "session = Session(engine)"
   ]
  },
  {
   "cell_type": "code",
   "execution_count": null,
   "metadata": {
    "ExecuteTime": {
     "end_time": "2021-12-20T06:13:01.555951Z",
     "start_time": "2021-12-20T06:13:01.537662Z"
    }
   },
   "outputs": [],
   "source": [
    "for i in geo_df.index:\n",
    "    session.add(Geo(\n",
    "        country = geo_df[\"country_name\"][i], \n",
    "        lat = geo_df[\"latitude\"][i],\n",
    "        lon = geo_df[\"longitude\"][i],\n",
    "        init = geo_df[\"country\"][i]\n",
    "    ))\n"
   ]
  },
  {
   "cell_type": "code",
   "execution_count": null,
   "metadata": {
    "ExecuteTime": {
     "end_time": "2021-12-20T06:13:03.714142Z",
     "start_time": "2021-12-20T06:13:03.709721Z"
    }
   },
   "outputs": [],
   "source": [
    "engine.execute(\"SELECT * FROM Geo\").fetchall()"
   ]
  },
  {
   "cell_type": "code",
   "execution_count": null,
   "metadata": {
    "ExecuteTime": {
     "end_time": "2021-12-20T06:13:04.522450Z",
     "start_time": "2021-12-20T06:13:04.518445Z"
    }
   },
   "outputs": [],
   "source": [
    "session.new"
   ]
  },
  {
   "cell_type": "code",
   "execution_count": null,
   "metadata": {
    "ExecuteTime": {
     "end_time": "2021-12-20T06:13:08.042982Z",
     "start_time": "2021-12-20T06:13:08.019306Z"
    }
   },
   "outputs": [],
   "source": [
    "session.commit()"
   ]
  },
  {
   "cell_type": "code",
   "execution_count": null,
   "metadata": {
    "ExecuteTime": {
     "end_time": "2021-12-20T06:13:08.649433Z",
     "start_time": "2021-12-20T06:13:08.646096Z"
    }
   },
   "outputs": [],
   "source": [
    "session.new"
   ]
  },
  {
   "cell_type": "code",
   "execution_count": null,
   "metadata": {
    "ExecuteTime": {
     "end_time": "2021-12-20T06:13:09.369842Z",
     "start_time": "2021-12-20T06:13:09.358517Z"
    }
   },
   "outputs": [],
   "source": [
    "session.query(Geo.country, Geo.lat, Geo.lon, Geo.init).all()"
   ]
  },
  {
   "cell_type": "code",
   "execution_count": null,
   "metadata": {},
   "outputs": [],
   "source": []
  },
  {
   "cell_type": "code",
   "execution_count": null,
   "metadata": {
    "ExecuteTime": {
     "end_time": "2021-12-20T06:13:13.467827Z",
     "start_time": "2021-12-20T06:13:13.462396Z"
    }
   },
   "outputs": [],
   "source": [
    "# Define the joined table\n",
    "class Join(Base):\n",
    "    __tablename__ = \"join\"\n",
    "    id =Column(Integer, primary_key=True)\n",
    "    country = Column(String)\n",
    "    country_code = Column(String)\n",
    "    region_id = Column(String)\n",
    "    gdp = Column(Float)\n",
    "    population = Column(Float)\n",
    "    lat = Column(Float)\n",
    "    lon = Column(Float)\n",
    "    gini = Column(Float)\n",
    "    happiness = Column(Float)\n",
    "    gdpPerCap = Column(Float)"
   ]
  },
  {
   "cell_type": "code",
   "execution_count": null,
   "metadata": {
    "ExecuteTime": {
     "end_time": "2021-12-20T06:13:14.171419Z",
     "start_time": "2021-12-20T06:13:14.167368Z"
    }
   },
   "outputs": [],
   "source": [
    "Base.metadata.tables"
   ]
  },
  {
   "cell_type": "code",
   "execution_count": null,
   "metadata": {
    "ExecuteTime": {
     "end_time": "2021-12-20T06:13:16.739674Z",
     "start_time": "2021-12-20T06:13:16.736930Z"
    }
   },
   "outputs": [],
   "source": [
    "engine = create_engine(\"sqlite:///../db/data.sqlite\")"
   ]
  },
  {
   "cell_type": "code",
   "execution_count": null,
   "metadata": {
    "ExecuteTime": {
     "end_time": "2021-12-20T06:13:17.132358Z",
     "start_time": "2021-12-20T06:13:17.126869Z"
    }
   },
   "outputs": [],
   "source": [
    "Base.metadata.create_all(engine)"
   ]
  },
  {
   "cell_type": "code",
   "execution_count": null,
   "metadata": {
    "ExecuteTime": {
     "end_time": "2021-12-20T06:13:17.645207Z",
     "start_time": "2021-12-20T06:13:17.642892Z"
    }
   },
   "outputs": [],
   "source": [
    "session = Session(engine)"
   ]
  },
  {
   "cell_type": "code",
   "execution_count": null,
   "metadata": {
    "ExecuteTime": {
     "end_time": "2021-12-20T06:13:18.219233Z",
     "start_time": "2021-12-20T06:13:18.198308Z"
    }
   },
   "outputs": [],
   "source": [
    "for i in joined_df.index:\n",
    "    session.add(Join(\n",
    "        country = joined_df[\"country_name\"][i],\n",
    "        country_code = joined_df[\"code\"][i],\n",
    "        region_id = joined_df[\"region_id\"][i],\n",
    "        gdp = joined_df[\"gdp\"][i],\n",
    "        population = joined_df[\"population\"][i],\n",
    "        lat = joined_df[\"latitude\"][i],\n",
    "        lon = joined_df[\"longitude\"][i],\n",
    "        gini = joined_df[\"gini\"][i],\n",
    "        happiness = joined_df[\"happiness\"][i],\n",
    "        gdpPerCap = joined_df[\"gdpPerCap\"][i]\n",
    "    ))"
   ]
  },
  {
   "cell_type": "code",
   "execution_count": null,
   "metadata": {
    "ExecuteTime": {
     "end_time": "2021-12-20T06:13:19.018071Z",
     "start_time": "2021-12-20T06:13:19.007549Z"
    }
   },
   "outputs": [],
   "source": [
    "engine.execute(\"SELECT * FROM Geo\").fetchall()"
   ]
  },
  {
   "cell_type": "code",
   "execution_count": null,
   "metadata": {
    "ExecuteTime": {
     "end_time": "2021-12-20T06:13:20.909403Z",
     "start_time": "2021-12-20T06:13:20.905728Z"
    }
   },
   "outputs": [],
   "source": [
    "session.new"
   ]
  },
  {
   "cell_type": "code",
   "execution_count": null,
   "metadata": {
    "ExecuteTime": {
     "end_time": "2021-12-20T06:13:23.653883Z",
     "start_time": "2021-12-20T06:13:23.637362Z"
    }
   },
   "outputs": [],
   "source": [
    "session.commit()"
   ]
  },
  {
   "cell_type": "code",
   "execution_count": null,
   "metadata": {
    "ExecuteTime": {
     "end_time": "2021-12-20T06:13:24.102221Z",
     "start_time": "2021-12-20T06:13:24.098545Z"
    }
   },
   "outputs": [],
   "source": [
    "session.new"
   ]
  },
  {
   "cell_type": "code",
   "execution_count": null,
   "metadata": {
    "ExecuteTime": {
     "end_time": "2021-12-20T06:13:25.152962Z",
     "start_time": "2021-12-20T06:13:25.144502Z"
    }
   },
   "outputs": [],
   "source": [
    "session.query(Join.country, Join.lat, Join.lon, Join.gdpPerCap).all()"
   ]
  },
  {
   "cell_type": "code",
   "execution_count": null,
   "metadata": {},
   "outputs": [],
   "source": []
  },
  {
   "cell_type": "code",
   "execution_count": null,
   "metadata": {
    "ExecuteTime": {
     "end_time": "2021-12-20T06:13:30.249021Z",
     "start_time": "2021-12-20T06:13:30.243721Z"
    }
   },
   "outputs": [],
   "source": [
    "# Define the joined table\n",
    "class Explain(Base):\n",
    "    __tablename__ = \"explain\"\n",
    "    id =Column(Integer, primary_key=True)\n",
    "    country = Column(String)\n",
    "    happiness = Column(Float)\n",
    "    gdppercap = Column(Float)\n",
    "    social = Column(Float)\n",
    "    health = Column(Float)\n",
    "    freedom = Column(Float)\n",
    "    generosity = Column(Float)\n",
    "    corruption = Column(Float)\n",
    "    residual = Column(Float)"
   ]
  },
  {
   "cell_type": "code",
   "execution_count": null,
   "metadata": {
    "ExecuteTime": {
     "end_time": "2021-12-20T06:13:30.910693Z",
     "start_time": "2021-12-20T06:13:30.906191Z"
    }
   },
   "outputs": [],
   "source": [
    "Base.metadata.tables"
   ]
  },
  {
   "cell_type": "code",
   "execution_count": null,
   "metadata": {
    "ExecuteTime": {
     "end_time": "2021-12-20T06:13:33.314419Z",
     "start_time": "2021-12-20T06:13:33.311421Z"
    }
   },
   "outputs": [],
   "source": [
    "engine = create_engine(\"sqlite:///../db/data.sqlite\")"
   ]
  },
  {
   "cell_type": "code",
   "execution_count": null,
   "metadata": {
    "ExecuteTime": {
     "end_time": "2021-12-20T06:13:33.718759Z",
     "start_time": "2021-12-20T06:13:33.713207Z"
    }
   },
   "outputs": [],
   "source": [
    "Base.metadata.create_all(engine)"
   ]
  },
  {
   "cell_type": "code",
   "execution_count": null,
   "metadata": {
    "ExecuteTime": {
     "end_time": "2021-12-20T06:13:34.199971Z",
     "start_time": "2021-12-20T06:13:34.197721Z"
    }
   },
   "outputs": [],
   "source": [
    "session = Session(engine)"
   ]
  },
  {
   "cell_type": "code",
   "execution_count": null,
   "metadata": {
    "ExecuteTime": {
     "end_time": "2021-12-20T06:13:34.789101Z",
     "start_time": "2021-12-20T06:13:34.768823Z"
    }
   },
   "outputs": [],
   "source": [
    "for i in happi_df.index:\n",
    "    session.add(Explain(\n",
    "        country = happi_df[\"Country\"][i],\n",
    "        happiness = happi_df[\"Happiness score\"][i],\n",
    "        gdppercap = happi_df[\"Explained by: GDP per capita\"][i],\n",
    "        social = happi_df[\"Explained by: Social support\"][i],\n",
    "        health = happi_df[\"Explained by: Healthy life expectancy\"][i],\n",
    "        freedom = happi_df[\"Explained by: Freedom to make life choices\"][i],\n",
    "        generosity = happi_df[\"Explained by: Generosity\"][i],\n",
    "        corruption = happi_df[\"Explained by: Perceptions of corruption\"][i],\n",
    "        residual = happi_df[\"Dystopia (1.88) + residual\"][i],\n",
    "    ))"
   ]
  },
  {
   "cell_type": "code",
   "execution_count": null,
   "metadata": {
    "ExecuteTime": {
     "end_time": "2021-12-20T06:13:37.250054Z",
     "start_time": "2021-12-20T06:13:37.245619Z"
    }
   },
   "outputs": [],
   "source": [
    "engine.execute(\"SELECT * FROM Explain\").fetchall()"
   ]
  },
  {
   "cell_type": "code",
   "execution_count": null,
   "metadata": {
    "ExecuteTime": {
     "end_time": "2021-12-20T06:13:38.040075Z",
     "start_time": "2021-12-20T06:13:38.036180Z"
    }
   },
   "outputs": [],
   "source": [
    "session.new"
   ]
  },
  {
   "cell_type": "code",
   "execution_count": null,
   "metadata": {
    "ExecuteTime": {
     "end_time": "2021-12-20T06:13:40.973480Z",
     "start_time": "2021-12-20T06:13:40.954948Z"
    }
   },
   "outputs": [],
   "source": [
    "session.commit()"
   ]
  },
  {
   "cell_type": "code",
   "execution_count": null,
   "metadata": {
    "ExecuteTime": {
     "end_time": "2021-12-20T06:13:41.420695Z",
     "start_time": "2021-12-20T06:13:41.417170Z"
    }
   },
   "outputs": [],
   "source": [
    "session.new"
   ]
  },
  {
   "cell_type": "code",
   "execution_count": null,
   "metadata": {
    "ExecuteTime": {
     "end_time": "2021-12-20T06:13:42.112976Z",
     "start_time": "2021-12-20T06:13:42.103871Z"
    }
   },
   "outputs": [],
   "source": [
    "session.query(Explain.country, Explain.gdppercap, Explain.social, Explain.health).all()"
   ]
  },
  {
   "cell_type": "code",
   "execution_count": null,
   "metadata": {},
   "outputs": [],
   "source": []
  }
 ],
 "metadata": {
  "hide_input": false,
  "kernelspec": {
   "display_name": "Python 3",
   "language": "python",
   "name": "python3"
  },
  "language_info": {
   "codemirror_mode": {
    "name": "ipython",
    "version": 3
   },
   "file_extension": ".py",
   "mimetype": "text/x-python",
   "name": "python",
   "nbconvert_exporter": "python",
   "pygments_lexer": "ipython3",
   "version": "3.8.2"
  },
  "latex_envs": {
   "LaTeX_envs_menu_present": true,
   "autoclose": false,
   "autocomplete": true,
   "bibliofile": "biblio.bib",
   "cite_by": "apalike",
   "current_citInitial": 1,
   "eqLabelWithNumbers": true,
   "eqNumInitial": 1,
   "hotkeys": {
    "equation": "Ctrl-E",
    "itemize": "Ctrl-I"
   },
   "labels_anchors": false,
   "latex_user_defs": false,
   "report_style_numbering": false,
   "user_envs_cfg": false
  },
  "nbTranslate": {
   "displayLangs": [
    "*"
   ],
   "hotkey": "alt-t",
   "langInMainMenu": true,
   "sourceLang": "en",
   "targetLang": "fr",
   "useGoogleTranslate": true
  },
  "toc": {
   "base_numbering": 1,
   "nav_menu": {},
   "number_sections": true,
   "sideBar": true,
   "skip_h1_title": false,
   "title_cell": "Table of Contents",
   "title_sidebar": "Contents",
   "toc_cell": false,
   "toc_position": {},
   "toc_section_display": true,
   "toc_window_display": false
  }
 },
 "nbformat": 4,
 "nbformat_minor": 2
}
