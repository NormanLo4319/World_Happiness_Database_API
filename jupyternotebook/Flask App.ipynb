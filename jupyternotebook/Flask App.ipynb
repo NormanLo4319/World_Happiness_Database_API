{
 "cells": [
  {
   "cell_type": "code",
   "execution_count": null,
   "metadata": {},
   "outputs": [],
   "source": [
    "# Dependencies\n",
    "import requests\n",
    "import json"
   ]
  },
  {
   "cell_type": "code",
   "execution_count": null,
   "metadata": {},
   "outputs": [],
   "source": [
    "# Base URL for GET requests to retrieve number/date facts\n",
    "url = \"http://numbersapi.com/\""
   ]
  },
  {
   "cell_type": "code",
   "execution_count": null,
   "metadata": {},
   "outputs": [],
   "source": [
    "# Ask the user what kind of data they would like to search for\n",
    "questions = (\"What type of data would you like to search for?  [Trivia, Math, Date, or Year]\")\n",
    "kind_of_search = input(questions)"
   ]
  },
  {
   "cell_type": "code",
   "execution_count": null,
   "metadata": {},
   "outputs": [],
   "source": [
    "# If the kind of search is \"date\" take in two numbers\n",
    "if(kind_of_search.lower() == \"date\"):\n",
    "\n",
    "  # Collect the month to search for\n",
    "  month = input(\"What month would you like to search for?\")\n",
    "  # Collect the day to search for\n",
    "  day = input(\"What day would you like to search for\")\n",
    "  # Make an API call to the \"date\" API and convert response object to JSON\n",
    "  response = requests.get(f\"{url}{month}/{day}/{kind_of_search.lower()}?json\").json()\n",
    "  # Print the fact stored within the response\n",
    "  print(response[\"text\"])\n",
    "\n",
    "# If the kind of search is anything but \"date\" then take one number\n",
    "else:\n",
    "  # Collect the number to search for\n",
    "  number = input(\"What number would you like to search for? \")\n",
    "  # Make an API call to the API and convert response object to JSON\n",
    "  response = requests.get(url + number + \"/\" + kind_of_search.lower() + \"?json\").json()\n",
    "  # Print the fact stored within the response\n",
    "  print(response[\"text\"])"
   ]
  },
  {
   "cell_type": "code",
   "execution_count": null,
   "metadata": {},
   "outputs": [],
   "source": []
  },
  {
   "cell_type": "code",
   "execution_count": null,
   "metadata": {},
   "outputs": [],
   "source": []
  },
  {
   "cell_type": "code",
   "execution_count": null,
   "metadata": {},
   "outputs": [],
   "source": []
  },
  {
   "cell_type": "code",
   "execution_count": null,
   "metadata": {},
   "outputs": [],
   "source": []
  },
  {
   "cell_type": "code",
   "execution_count": null,
   "metadata": {},
   "outputs": [],
   "source": []
  },
  {
   "cell_type": "code",
   "execution_count": 1,
   "metadata": {},
   "outputs": [],
   "source": [
    "# Python SQL toolkit and Object Relational Mapper\n",
    "import numpy as np\n",
    "import sqlalchemy\n",
    "from sqlalchemy.ext.automap import automap_base\n",
    "from sqlalchemy.orm import Session\n",
    "from sqlalchemy import create_engine, inspect\n",
    "from flask import Flask, jsonify"
   ]
  },
  {
   "cell_type": "code",
   "execution_count": 2,
   "metadata": {},
   "outputs": [],
   "source": [
    "engine = create_engine(\"sqlite:///outputs/data.sqlite\")"
   ]
  },
  {
   "cell_type": "code",
   "execution_count": 4,
   "metadata": {},
   "outputs": [
    {
     "data": {
      "text/plain": [
       "[]"
      ]
     },
     "execution_count": 4,
     "metadata": {},
     "output_type": "execute_result"
    }
   ],
   "source": [
    "Base = automap_base()\n",
    "Base.prepare(engine, reflect=True)\n",
    "Base.classes.keys()"
   ]
  },
  {
   "cell_type": "code",
   "execution_count": 5,
   "metadata": {},
   "outputs": [],
   "source": [
    "demo = Base.classes.demographic\n",
    "gini = Base.classes.gini\n",
    "happiness = Base.classes.happiness"
   ]
  },
  {
   "cell_type": "code",
   "execution_count": 6,
   "metadata": {},
   "outputs": [],
   "source": [
    "session = Session(engine)"
   ]
  },
  {
   "cell_type": "code",
   "execution_count": 17,
   "metadata": {},
   "outputs": [],
   "source": [
    "result = session.query(demo).all()"
   ]
  },
  {
   "cell_type": "code",
   "execution_count": 18,
   "metadata": {},
   "outputs": [],
   "source": [
    "all_countries = []"
   ]
  },
  {
   "cell_type": "code",
   "execution_count": 19,
   "metadata": {},
   "outputs": [],
   "source": [
    "for i in result:\n",
    "    demo_dict = {}\n",
    "    demo_dict[\"country\"] = i.country\n",
    "    demo_dict[\"region_id\"] = i.region_id\n",
    "    demo_dict[\"gdp\"] = i.gdp\n",
    "    demo_dict[\"population\"] = i.population\n",
    "    all_countries.append(demo_dict)"
   ]
  },
  {
   "cell_type": "code",
   "execution_count": 27,
   "metadata": {},
   "outputs": [
    {
     "name": "stdout",
     "output_type": "stream",
     "text": [
      "[{'country': 'Aruba', 'region_id': 'LCN', 'gdp': None, 'population': 103187.0}, {'country': 'Afghanistan', 'region_id': 'SAS', 'gdp': 21413614653.0, 'population': 34656032.0}, {'country': 'Angola', 'region_id': 'SSF', 'gdp': 103042000000.0, 'population': 25096150.0}, {'country': 'Albania', 'region_id': 'ECS', 'gdp': 13471082475.0, 'population': 2880703.0}, {'country': 'Andorra', 'region_id': 'ECS', 'gdp': 3319880351.0, 'population': 82431.0}, {'country': 'United Arab Emirates', 'region_id': 'MEA', 'gdp': 384222000000.0, 'population': 9269612.0}, {'country': 'Argentina', 'region_id': 'LCN', 'gdp': 447518000000.0, 'population': 42981515.0}, {'country': 'Armenia', 'region_id': 'ECS', 'gdp': 11501998666.0, 'population': 2906220.0}, {'country': 'American Samoa', 'region_id': 'EAS', 'gdp': 534555066.1, 'population': 55599.0}, {'country': 'Antigua and Barbuda', 'region_id': 'LCN', 'gdp': 1344373698.0, 'population': 96777.0}, {'country': 'Australia', 'region_id': 'EAS', 'gdp': 1349300000000.0, 'population': 23789338.0}, {'country': 'Austria', 'region_id': 'ECS', 'gdp': 420040000000.0, 'population': 8633169.0}, {'country': 'Azerbaijan', 'region_id': 'ECS', 'gdp': 57195531762.0, 'population': 9649341.0}, {'country': 'Burundi', 'region_id': 'SSF', 'gdp': 2297241392.0, 'population': 6741569.0}, {'country': 'Belgium', 'region_id': 'ECS', 'gdp': 515103000000.0, 'population': 11274196.0}, {'country': 'Benin', 'region_id': 'SSF', 'gdp': 9102277423.0, 'population': 5521763.0}, {'country': 'Burkina Faso', 'region_id': 'SSF', 'gdp': 12380518526.0, 'population': 18110624.0}, {'country': 'Bangladesh', 'region_id': 'SAS', 'gdp': 167771000000.0, 'population': 155727053.0}, {'country': 'Bulgaria', 'region_id': 'ECS', 'gdp': 56792405577.0, 'population': 7177991.0}, {'country': 'Bahrain', 'region_id': 'MEA', 'gdp': 31769062885.0, 'population': 1425171.0}, {'country': 'Bahamas, The', 'region_id': 'LCN', 'gdp': 10343803832.0, 'population': 386838.0}, {'country': 'Bosnia and Herzegovina', 'region_id': 'ECS', 'gdp': 18929698720.0, 'population': 3535961.0}, {'country': 'Belarus', 'region_id': 'ECS', 'gdp': 59187019676.0, 'population': 9489616.0}, {'country': 'Belize', 'region_id': 'LCN', 'gdp': 1602671549.0, 'population': 359288.0}, {'country': 'Bermuda', 'region_id': 'NAC', 'gdp': None, 'population': 64798.0}, {'country': 'Bolivia', 'region_id': 'LCN', 'gdp': 26758341469.0, 'population': 10724705.0}, {'country': 'Brazil', 'region_id': 'LCN', 'gdp': 2256910000000.0, 'population': 205962108.0}, {'country': 'Barbados', 'region_id': 'LCN', 'gdp': 4637855785.0, 'population': 280601.0}, {'country': 'Brunei Darussalam', 'region_id': 'EAS', 'gdp': 13301457675.0, 'population': 423196.0}, {'country': 'Bhutan', 'region_id': 'SAS', 'gdp': 2234759342.0, 'population': 686958.0}, {'country': 'Botswana', 'region_id': 'SSF', 'gdp': 16843294913.0, 'population': 2014866.0}, {'country': 'Central African Republic', 'region_id': 'SSF', 'gdp': 1496562092.0, 'population': 4515392.0}, {'country': 'Canada', 'region_id': 'NAC', 'gdp': 1828000000000.0, 'population': 35544564.0}, {'country': 'Switzerland', 'region_id': 'ECS', 'gdp': 642090000000.0, 'population': 8372098.0}, {'country': 'Channel Islands', 'region_id': 'ECS', 'gdp': None, 'population': 164541.0}, {'country': 'Chile', 'region_id': 'LCN', 'gdp': 267904000000.0, 'population': 16829442.0}, {'country': 'China', 'region_id': 'EAS', 'gdp': 9505160000000.0, 'population': 1370000000.0}, {'country': 'Côte d’Ivoire', 'region_id': 'SSF', 'gdp': 36796468787.0, 'population': 20401331.0}, {'country': 'Cameroon', 'region_id': 'SSF', 'gdp': 35051979601.0, 'population': 21655715.0}, {'country': 'Congo, Dem. Rep.', 'region_id': 'SSF', 'gdp': 32089998961.0, 'population': 78736153.0}, {'country': 'Congo, Rep.', 'region_id': 'SSF', 'gdp': 14205686708.0, 'population': 2648507.0}, {'country': 'Colombia', 'region_id': 'LCN', 'gdp': 366457000000.0, 'population': 46406646.0}, {'country': 'Comoros', 'region_id': 'SSF', 'gdp': 611370805.2, 'population': 777424.0}, {'country': 'Cabo Verde', 'region_id': 'SSF', 'gdp': 1860165515.0, 'population': 513979.0}, {'country': 'Costa Rica', 'region_id': 'LCN', 'gdp': 46551438317.0, 'population': 4757575.0}, {'country': 'Cuba', 'region_id': 'LCN', 'gdp': None, 'population': 11303687.0}, {'country': 'Curacao', 'region_id': 'LCN', 'gdp': None, 'population': 153822.0}, {'country': 'Cayman Islands', 'region_id': 'LCN', 'gdp': None, 'population': 59172.0}, {'country': 'Cyprus', 'region_id': 'ECS', 'gdp': 24311614955.0, 'population': 1160985.0}, {'country': 'Czech Republic', 'region_id': 'ECS', 'gdp': 231340000000.0, 'population': 10546059.0}, {'country': 'Germany', 'region_id': 'ECS', 'gdp': 3781700000000.0, 'population': 81686611.0}, {'country': 'Djibouti', 'region_id': 'MEA', 'gdp': None, 'population': 746221.0}, {'country': 'Dominica', 'region_id': 'LCN', 'gdp': 506021862.9, 'population': 72400.0}, {'country': 'Denmark', 'region_id': 'ECS', 'gdp': 347520000000.0, 'population': 5683483.0}, {'country': 'Dominican Republic', 'region_id': 'LCN', 'gdp': 73664129265.0, 'population': 10528394.0}, {'country': 'Algeria', 'region_id': 'MEA', 'gdp': 196035000000.0, 'population': 40606052.0}, {'country': 'Ecuador', 'region_id': 'LCN', 'gdp': 85056519293.0, 'population': 16144368.0}, {'country': 'Egypt, Arab Rep.', 'region_id': 'MEA', 'gdp': 260816000000.0, 'population': 87813257.0}, {'country': 'Eritrea', 'region_id': 'SSF', 'gdp': None, 'population': 4474690.0}, {'country': 'Spain', 'region_id': 'ECS', 'gdp': 1464510000000.0, 'population': 46447697.0}, {'country': 'Estonia', 'region_id': 'ECS', 'gdp': 23808677023.0, 'population': 1315407.0}, {'country': 'Ethiopia', 'region_id': 'SSF', 'gdp': 52347226230.0, 'population': 99873033.0}, {'country': 'Finland', 'region_id': 'ECS', 'gdp': 252692000000.0, 'population': 5479531.0}, {'country': 'Fiji', 'region_id': 'EAS', 'gdp': 3771168286.0, 'population': 867086.0}, {'country': 'France', 'region_id': 'ECS', 'gdp': 2806040000000.0, 'population': 66624068.0}, {'country': 'Faeroe Islands', 'region_id': 'ECS', 'gdp': None, 'population': 48842.0}, {'country': 'Micronesia, Fed. Sts.', 'region_id': 'EAS', 'gdp': 296282644.0, 'population': 104937.0}, {'country': 'Gabon', 'region_id': 'SSF', 'gdp': 18912467101.0, 'population': 1086137.0}, {'country': 'United Kingdom', 'region_id': 'ECS', 'gdp': 2757620000000.0, 'population': 65128861.0}, {'country': 'Georgia', 'region_id': 'ECS', 'gdp': 15189614351.0, 'population': 3717100.0}, {'country': 'Ghana', 'region_id': 'SSF', 'gdp': 48199090352.0, 'population': 21542009.0}, {'country': 'Gibraltar', 'region_id': 'ECS', 'gdp': None, 'population': 33623.0}, {'country': 'Guinea', 'region_id': 'SSF', 'gdp': 9667718427.0, 'population': 8132552.0}, {'country': 'Gambia, The', 'region_id': 'SSF', 'gdp': 1084318241.0, 'population': 1311349.0}, {'country': 'Guinea-Bissau', 'region_id': 'SSF', 'gdp': 1062488925.0, 'population': 1770526.0}, {'country': 'Equatorial Guinea', 'region_id': 'SSF', 'gdp': 15045964750.0, 'population': 1221490.0}, {'country': 'Greece', 'region_id': 'ECS', 'gdp': 244481000000.0, 'population': 10892413.0}, {'country': 'Grenada', 'region_id': 'LCN', 'gdp': 931118693.5, 'population': 105481.0}, {'country': 'Greenland', 'region_id': 'ECS', 'gdp': 2823634004.0, 'population': 56905.0}, {'country': 'Guatemala', 'region_id': 'LCN', 'gdp': 51421926688.0, 'population': 16252429.0}, {'country': 'Guam', 'region_id': 'EAS', 'gdp': 5214914976.0, 'population': 159973.0}, {'country': 'Guyana', 'region_id': 'LCN', 'gdp': 2925825406.0, 'population': 746556.0}, {'country': 'Hong Kong SAR, China', 'region_id': 'EAS', 'gdp': 270105000000.0, 'population': 7305700.0}, {'country': 'Honduras', 'region_id': 'LCN', 'gdp': 19545909275.0, 'population': 9112867.0}, {'country': 'Croatia', 'region_id': 'ECS', 'gdp': 61095271083.0, 'population': 4203604.0}, {'country': 'Haiti', 'region_id': 'LCN', 'gdp': 7911616492.0, 'population': 10847334.0}, {'country': 'Hungary', 'region_id': 'ECS', 'gdp': 147183000000.0, 'population': 9843028.0}, {'country': 'Indonesia', 'region_id': 'EAS', 'gdp': 1037860000000.0, 'population': 261115456.0}, {'country': 'Isle of Man', 'region_id': 'ECS', 'gdp': None, 'population': 80759.0}, {'country': 'India', 'region_id': 'SAS', 'gdp': 2466180000000.0, 'population': 1071477855.0}, {'country': 'Ireland', 'region_id': 'ECS', 'gdp': 332361000000.0, 'population': 4586897.0}, {'country': 'Iran, Islamic Rep.', 'region_id': 'MEA', 'gdp': 540581000000.0, 'population': 80277428.0}, {'country': 'Iraq', 'region_id': 'MEA', 'gdp': 213938000000.0, 'population': 36115649.0}, {'country': 'Iceland', 'region_id': 'ECS', 'gdp': 16434890343.0, 'population': 330815.0}, {'country': 'Israel', 'region_id': 'MEA', 'gdp': 287808000000.0, 'population': 8380100.0}, {'country': 'Italy', 'region_id': 'ECS', 'gdp': 2080640000000.0, 'population': 60730582.0}, {'country': 'Jamaica', 'region_id': 'LCN', 'gdp': 13801803130.0, 'population': 2881355.0}, {'country': 'Jordan', 'region_id': 'MEA', 'gdp': 30811666897.0, 'population': 8413464.0}, {'country': 'Japan', 'region_id': 'EAS', 'gdp': 6052670000000.0, 'population': 127000000.0}, {'country': 'Kazakhstan', 'region_id': 'ECS', 'gdp': 188309000000.0, 'population': 16791425.0}, {'country': 'Kenya', 'region_id': 'SSF', 'gdp': 55409230682.0, 'population': 41350152.0}, {'country': 'Kyrgyz Republic', 'region_id': 'ECS', 'gdp': 6346700788.0, 'population': 5956900.0}, {'country': 'Cambodia', 'region_id': 'EAS', 'gdp': 17009386902.0, 'population': 15270790.0}, {'country': 'Kiribati', 'region_id': 'EAS', 'gdp': 192869131.3, 'population': 114395.0}, {'country': 'St. Kitts and Nevis', 'region_id': 'LCN', 'gdp': 858344680.0, 'population': 54288.0}, {'country': 'Korea, Rep.', 'region_id': 'EAS', 'gdp': 1305950000000.0, 'population': 50746659.0}, {'country': 'Kuwait', 'region_id': 'MEA', 'gdp': 142857000000.0, 'population': 2998083.0}, {'country': 'Lao PDR', 'region_id': 'EAS', 'gdp': 11102149875.0, 'population': 6663967.0}, {'country': 'Lebanon', 'region_id': 'MEA', 'gdp': 42911390492.0, 'population': 5603279.0}, {'country': 'Liberia', 'region_id': 'SSF', 'gdp': 1627046588.0, 'population': 3512932.0}, {'country': 'Libya', 'region_id': 'MEA', 'gdp': 36808842591.0, 'population': 6193501.0}, {'country': 'St. Lucia', 'region_id': 'LCN', 'gdp': 1489854701.0, 'population': 177206.0}, {'country': 'Liechtenstein', 'region_id': 'ECS', 'gdp': None, 'population': 36545.0}, {'country': 'Sri Lanka', 'region_id': 'SAS', 'gdp': 79907042295.0, 'population': 21200000.0}, {'country': 'Lesotho', 'region_id': 'SSF', 'gdp': 2980616573.0, 'population': 1965662.0}, {'country': 'Lithuania', 'region_id': 'ECS', 'gdp': 45735444769.0, 'population': 2904910.0}, {'country': 'Luxembourg', 'region_id': 'ECS', 'gdp': 63207264513.0, 'population': 569604.0}, {'country': 'Latvia', 'region_id': 'ECS', 'gdp': 28871503534.0, 'population': 1977527.0}, {'country': 'Macao SAR, China', 'region_id': 'EAS', 'gdp': 31920853732.0, 'population': 612167.0}, {'country': 'St. Martin (French part)', 'region_id': 'LCN', 'gdp': None, 'population': 30959.0}, {'country': 'Morocco', 'region_id': 'MEA', 'gdp': 114784000000.0, 'population': 34318082.0}, {'country': 'Monaco', 'region_id': 'ECS', 'gdp': None, 'population': 37783.0}, {'country': 'Moldova', 'region_id': 'ECS', 'gdp': 7354798041.0, 'population': 3554108.0}, {'country': 'Madagascar', 'region_id': 'SSF', 'gdp': 10356200861.0, 'population': 24894551.0}, {'country': 'Maldives', 'region_id': 'SAS', 'gdp': 3600398618.0, 'population': 409163.0}, {'country': 'Mexico', 'region_id': 'LCN', 'gdp': 1259040000000.0, 'population': 125890949.0}, {'country': 'Marshall Islands', 'region_id': 'EAS', 'gdp': 179041793.9, 'population': 52793.0}, {'country': 'Macedonia, FYR', 'region_id': 'ECS', 'gdp': 10924716122.0, 'population': 2081206.0}, {'country': 'Mali', 'region_id': 'SSF', 'gdp': 13421822111.0, 'population': 16006670.0}, {'country': 'Malta', 'region_id': 'MEA', 'gdp': 11868476821.0, 'population': 431874.0}, {'country': 'Myanmar', 'region_id': 'EAS', 'gdp': 74469832820.0, 'population': 46095462.0}, {'country': 'Montenegro', 'region_id': 'ECS', 'gdp': 4662831376.0, 'population': 622159.0}, {'country': 'Mongolia', 'region_id': 'EAS', 'gdp': 11825367387.0, 'population': 3027398.0}, {'country': 'Northern Mariana Islands', 'region_id': 'EAS', 'gdp': 1051785360.0, 'population': 54036.0}, {'country': 'Mozambique', 'region_id': 'SSF', 'gdp': 14846071335.0, 'population': 27212382.0}, {'country': 'Mauritania', 'region_id': 'SSF', 'gdp': 5574151157.0, 'population': 3506288.0}, {'country': 'Mauritius', 'region_id': 'SSF', 'gdp': 12409842083.0, 'population': 1263473.0}, {'country': 'Malawi', 'region_id': 'SSF', 'gdp': 8710223822.0, 'population': 16577147.0}, {'country': 'Malaysia', 'region_id': 'EAS', 'gdp': 344052000000.0, 'population': 30228017.0}, {'country': 'Namibia', 'region_id': 'SSF', 'gdp': 14950179757.0, 'population': 1559983.0}, {'country': 'New Caledonia', 'region_id': 'EAS', 'gdp': None, 'population': 278000.0}, {'country': 'Niger', 'region_id': 'SSF', 'gdp': 8106889865.0, 'population': 8842415.0}, {'country': 'Nigeria', 'region_id': 'SSF', 'gdp': 456775000000.0, 'population': 154402181.0}, {'country': 'Nicaragua', 'region_id': 'LCN', 'gdp': 11955466051.0, 'population': 5737723.0}, {'country': 'Netherlands', 'region_id': 'ECS', 'gdp': 890136000000.0, 'population': 16939923.0}, {'country': 'Norway', 'region_id': 'ECS', 'gdp': 472766000000.0, 'population': 5188607.0}, {'country': 'Nepal', 'region_id': 'SAS', 'gdp': 19856634053.0, 'population': 28982771.0}, {'country': 'Nauru', 'region_id': 'EAS', 'gdp': 125930267.7, 'population': 13049.0}, {'country': 'New Zealand', 'region_id': 'EAS', 'gdp': 176129000000.0, 'population': 4692700.0}, {'country': 'Oman', 'region_id': 'MEA', 'gdp': 75054356307.0, 'population': 3960925.0}, {'country': 'Pakistan', 'region_id': 'SAS', 'gdp': 227867000000.0, 'population': 193203476.0}, {'country': 'Panama', 'region_id': 'LCN', 'gdp': 44789036003.0, 'population': 3969249.0}, {'country': 'Peru', 'region_id': 'LCN', 'gdp': 193653000000.0, 'population': 30973354.0}, {'country': 'Philippines', 'region_id': 'EAS', 'gdp': 284349000000.0, 'population': 103320222.0}, {'country': 'Palau', 'region_id': 'EAS', 'gdp': 225308048.6, 'population': 21503.0}, {'country': 'Papua New Guinea', 'region_id': 'EAS', 'gdp': 19389192291.0, 'population': 7755785.0}, {'country': 'Poland', 'region_id': 'ECS', 'gdp': 572132000000.0, 'population': 37986412.0}, {'country': 'Puerto Rico', 'region_id': 'LCN', 'gdp': 93028633826.0, 'population': 3473181.0}, {'country': 'Portugal', 'region_id': 'ECS', 'gdp': 231745000000.0, 'population': 10401062.0}, {'country': 'Paraguay', 'region_id': 'LCN', 'gdp': 26400622643.0, 'population': 6639119.0}, {'country': 'West Bank and Gaza', 'region_id': 'MEA', 'gdp': 11767216976.0, 'population': 4046901.0}, {'country': 'French Polynesia', 'region_id': 'EAS', 'gdp': None, 'population': 273528.0}, {'country': 'Qatar', 'region_id': 'MEA', 'gdp': 170663000000.0, 'population': 2109568.0}, {'country': 'Romania', 'region_id': 'ECS', 'gdp': 200217000000.0, 'population': 19815481.0}, {'country': 'Russian Federation', 'region_id': 'ECS', 'gdp': 1654430000000.0, 'population': 143201676.0}, {'country': 'Rwanda', 'region_id': 'SSF', 'gdp': 8805014649.0, 'population': 11917508.0}, {'country': 'Saudi Arabia', 'region_id': 'MEA', 'gdp': 690000000000.0, 'population': 31557144.0}, {'country': 'Sudan', 'region_id': 'SSF', 'gdp': 76149479953.0, 'population': 38647803.0}, {'country': 'Senegal', 'region_id': 'SSF', 'gdp': 16833353304.0, 'population': 15411614.0}, {'country': 'Singapore', 'region_id': 'EAS', 'gdp': 299170000000.0, 'population': 5607283.0}, {'country': 'Solomon Islands', 'region_id': 'EAS', 'gdp': 900859048.9, 'population': 563513.0}, {'country': 'Sierra Leone', 'region_id': 'SSF', 'gdp': 3355384560.0, 'population': 5439695.0}, {'country': 'El Salvador', 'region_id': 'LCN', 'gdp': 21588556542.0, 'population': 6164626.0}, {'country': 'San Marino', 'region_id': 'ECS', 'gdp': 1746352442.0, 'population': 33203.0}, {'country': 'Somalia', 'region_id': 'SSF', 'gdp': None, 'population': 14317996.0}, {'country': 'Serbia', 'region_id': 'ECS', 'gdp': 41308012850.0, 'population': 7095383.0}, {'country': 'South Sudan', 'region_id': 'SSF', 'gdp': None, 'population': 11177490.0}, {'country': 'São Tomé and Príncipe', 'region_id': 'SSF', 'gdp': 256822056.3, 'population': 191266.0}, {'country': 'Suriname', 'region_id': 'LCN', 'gdp': 4527379879.0, 'population': 526103.0}, {'country': 'Slovak Republic', 'region_id': 'ECS', 'gdp': 104679000000.0, 'population': 5423801.0}, {'country': 'Slovenia', 'region_id': 'ECS', 'gdp': 50511749002.0, 'population': 2063531.0}, {'country': 'Sweden', 'region_id': 'ECS', 'gdp': 560387000000.0, 'population': 9799186.0}, {'country': 'Eswatini', 'region_id': 'SSF', 'gdp': 5246492516.0, 'population': 1343098.0}, {'country': 'Sint Maarten (Dutch part)', 'region_id': 'LCN', 'gdp': None, 'population': 37685.0}, {'country': 'Seychelles', 'region_id': 'SSF', 'gdp': 1287449683.0, 'population': 88303.0}, {'country': 'Syrian Arab Republic', 'region_id': 'MEA', 'gdp': None, 'population': 20824893.0}, {'country': 'Turks and Caicos Islands', 'region_id': 'LCN', 'gdp': None, 'population': 34900.0}, {'country': 'Chad', 'region_id': 'SSF', 'gdp': 12642608725.0, 'population': 11887202.0}, {'country': 'Togo', 'region_id': 'SSF', 'gdp': 4264876064.0, 'population': 7228915.0}, {'country': 'Thailand', 'region_id': 'EAS', 'gdp': 407015000000.0, 'population': 68657600.0}, {'country': 'Tajikistan', 'region_id': 'ECS', 'gdp': 8458800788.0, 'population': 8177809.0}, {'country': 'Turkmenistan', 'region_id': 'ECS', 'gdp': 39563379206.0, 'population': 5366277.0}, {'country': 'Timor-Leste', 'region_id': 'EAS', 'gdp': 3765074847.0, 'population': 1268671.0}, {'country': 'Tonga', 'region_id': 'EAS', 'gdp': 406237705.3, 'population': 104951.0}, {'country': 'Trinidad and Tobago', 'region_id': 'LCN', 'gdp': 21519942195.0, 'population': 1328100.0}, {'country': 'Tunisia', 'region_id': 'MEA', 'gdp': 48682059522.0, 'population': 11143908.0}, {'country': 'Turkey', 'region_id': 'ECS', 'gdp': 1122510000000.0, 'population': 78271472.0}, {'country': 'Tuvalu', 'region_id': 'EAS', 'gdp': 39216157.28, 'population': 11097.0}, {'country': None, 'region_id': 'EAS', 'gdp': None, 'population': 23400000.0}, {'country': 'Tanzania', 'region_id': 'SSF', 'gdp': 46775259596.0, 'population': 49082997.0}, {'country': 'Uganda', 'region_id': 'SSF', 'gdp': 27483055272.0, 'population': 35093648.0}, {'country': 'Ukraine', 'region_id': 'ECS', 'gdp': 124000000000.0, 'population': 45004645.0}, {'country': 'Uruguay', 'region_id': 'LCN', 'gdp': 48362932954.0, 'population': 3431552.0}, {'country': 'United States', 'region_id': 'NAC', 'gdp': 16920300000000.0, 'population': 318563456.0}, {'country': 'Uzbekistan', 'region_id': 'ECS', 'gdp': 62469088152.0, 'population': 29774500.0}, {'country': 'St. Vincent and the Grenadines', 'region_id': 'LCN', 'gdp': 729264939.6, 'population': 109455.0}, {'country': 'Venezuela, RB', 'region_id': 'LCN', 'gdp': None, 'population': 29893080.0}, {'country': 'British Virgin Islands', 'region_id': 'LCN', 'gdp': None, 'population': 20645.0}, {'country': 'Virgin Islands (U.S.)', 'region_id': 'LCN', 'gdp': None, 'population': 105784.0}, {'country': 'Vietnam', 'region_id': 'EAS', 'gdp': 164105000000.0, 'population': 86932500.0}, {'country': 'Vanuatu', 'region_id': 'EAS', 'gdp': 777052317.5, 'population': 270402.0}, {'country': 'Samoa', 'region_id': 'EAS', 'gdp': 738041747.0, 'population': 187665.0}, {'country': 'Kosovo', 'region_id': 'ECS', 'gdp': 7129271792.0, 'population': 1801800.0}, {'country': 'Yemen, Rep.', 'region_id': 'MEA', 'gdp': 11927030389.0, 'population': 27584213.0}, {'country': 'South Africa', 'region_id': 'SSF', 'gdp': 421209000000.0, 'population': 51729345.36}, {'country': 'Zambia', 'region_id': 'SSF', 'gdp': 27037168289.0, 'population': 14264756.0}, {'country': 'Zimbabwe', 'region_id': 'SSF', 'gdp': 14818986231.0, 'population': 12500525.0}]\n"
     ]
    }
   ],
   "source": [
    "print(all_countries)"
   ]
  },
  {
   "cell_type": "code",
   "execution_count": 30,
   "metadata": {},
   "outputs": [
    {
     "data": {
      "text/plain": [
       "[('Aruba'),\n",
       " ('Afghanistan'),\n",
       " ('Angola'),\n",
       " ('Albania'),\n",
       " ('Andorra'),\n",
       " ('United Arab Emirates'),\n",
       " ('Argentina'),\n",
       " ('Armenia'),\n",
       " ('American Samoa'),\n",
       " ('Antigua and Barbuda'),\n",
       " ('Australia'),\n",
       " ('Austria'),\n",
       " ('Azerbaijan'),\n",
       " ('Burundi'),\n",
       " ('Belgium'),\n",
       " ('Benin'),\n",
       " ('Burkina Faso'),\n",
       " ('Bangladesh'),\n",
       " ('Bulgaria'),\n",
       " ('Bahrain'),\n",
       " ('Bahamas, The'),\n",
       " ('Bosnia and Herzegovina'),\n",
       " ('Belarus'),\n",
       " ('Belize'),\n",
       " ('Bermuda'),\n",
       " ('Bolivia'),\n",
       " ('Brazil'),\n",
       " ('Barbados'),\n",
       " ('Brunei Darussalam'),\n",
       " ('Bhutan'),\n",
       " ('Botswana'),\n",
       " ('Central African Republic'),\n",
       " ('Canada'),\n",
       " ('Switzerland'),\n",
       " ('Channel Islands'),\n",
       " ('Chile'),\n",
       " ('China'),\n",
       " ('Côte d’Ivoire'),\n",
       " ('Cameroon'),\n",
       " ('Congo, Dem. Rep.'),\n",
       " ('Congo, Rep.'),\n",
       " ('Colombia'),\n",
       " ('Comoros'),\n",
       " ('Cabo Verde'),\n",
       " ('Costa Rica'),\n",
       " ('Cuba'),\n",
       " ('Curacao'),\n",
       " ('Cayman Islands'),\n",
       " ('Cyprus'),\n",
       " ('Czech Republic'),\n",
       " ('Germany'),\n",
       " ('Djibouti'),\n",
       " ('Dominica'),\n",
       " ('Denmark'),\n",
       " ('Dominican Republic'),\n",
       " ('Algeria'),\n",
       " ('Ecuador'),\n",
       " ('Egypt, Arab Rep.'),\n",
       " ('Eritrea'),\n",
       " ('Spain'),\n",
       " ('Estonia'),\n",
       " ('Ethiopia'),\n",
       " ('Finland'),\n",
       " ('Fiji'),\n",
       " ('France'),\n",
       " ('Faeroe Islands'),\n",
       " ('Micronesia, Fed. Sts.'),\n",
       " ('Gabon'),\n",
       " ('United Kingdom'),\n",
       " ('Georgia'),\n",
       " ('Ghana'),\n",
       " ('Gibraltar'),\n",
       " ('Guinea'),\n",
       " ('Gambia, The'),\n",
       " ('Guinea-Bissau'),\n",
       " ('Equatorial Guinea'),\n",
       " ('Greece'),\n",
       " ('Grenada'),\n",
       " ('Greenland'),\n",
       " ('Guatemala'),\n",
       " ('Guam'),\n",
       " ('Guyana'),\n",
       " ('Hong Kong SAR, China'),\n",
       " ('Honduras'),\n",
       " ('Croatia'),\n",
       " ('Haiti'),\n",
       " ('Hungary'),\n",
       " ('Indonesia'),\n",
       " ('Isle of Man'),\n",
       " ('India'),\n",
       " ('Ireland'),\n",
       " ('Iran, Islamic Rep.'),\n",
       " ('Iraq'),\n",
       " ('Iceland'),\n",
       " ('Israel'),\n",
       " ('Italy'),\n",
       " ('Jamaica'),\n",
       " ('Jordan'),\n",
       " ('Japan'),\n",
       " ('Kazakhstan'),\n",
       " ('Kenya'),\n",
       " ('Kyrgyz Republic'),\n",
       " ('Cambodia'),\n",
       " ('Kiribati'),\n",
       " ('St. Kitts and Nevis'),\n",
       " ('Korea, Rep.'),\n",
       " ('Kuwait'),\n",
       " ('Lao PDR'),\n",
       " ('Lebanon'),\n",
       " ('Liberia'),\n",
       " ('Libya'),\n",
       " ('St. Lucia'),\n",
       " ('Liechtenstein'),\n",
       " ('Sri Lanka'),\n",
       " ('Lesotho'),\n",
       " ('Lithuania'),\n",
       " ('Luxembourg'),\n",
       " ('Latvia'),\n",
       " ('Macao SAR, China'),\n",
       " ('St. Martin (French part)'),\n",
       " ('Morocco'),\n",
       " ('Monaco'),\n",
       " ('Moldova'),\n",
       " ('Madagascar'),\n",
       " ('Maldives'),\n",
       " ('Mexico'),\n",
       " ('Marshall Islands'),\n",
       " ('Macedonia, FYR'),\n",
       " ('Mali'),\n",
       " ('Malta'),\n",
       " ('Myanmar'),\n",
       " ('Montenegro'),\n",
       " ('Mongolia'),\n",
       " ('Northern Mariana Islands'),\n",
       " ('Mozambique'),\n",
       " ('Mauritania'),\n",
       " ('Mauritius'),\n",
       " ('Malawi'),\n",
       " ('Malaysia'),\n",
       " ('Namibia'),\n",
       " ('New Caledonia'),\n",
       " ('Niger'),\n",
       " ('Nigeria'),\n",
       " ('Nicaragua'),\n",
       " ('Netherlands'),\n",
       " ('Norway'),\n",
       " ('Nepal'),\n",
       " ('Nauru'),\n",
       " ('New Zealand'),\n",
       " ('Oman'),\n",
       " ('Pakistan'),\n",
       " ('Panama'),\n",
       " ('Peru'),\n",
       " ('Philippines'),\n",
       " ('Palau'),\n",
       " ('Papua New Guinea'),\n",
       " ('Poland'),\n",
       " ('Puerto Rico'),\n",
       " ('Portugal'),\n",
       " ('Paraguay'),\n",
       " ('West Bank and Gaza'),\n",
       " ('French Polynesia'),\n",
       " ('Qatar'),\n",
       " ('Romania'),\n",
       " ('Russian Federation'),\n",
       " ('Rwanda'),\n",
       " ('Saudi Arabia'),\n",
       " ('Sudan'),\n",
       " ('Senegal'),\n",
       " ('Singapore'),\n",
       " ('Solomon Islands'),\n",
       " ('Sierra Leone'),\n",
       " ('El Salvador'),\n",
       " ('San Marino'),\n",
       " ('Somalia'),\n",
       " ('Serbia'),\n",
       " ('South Sudan'),\n",
       " ('São Tomé and Príncipe'),\n",
       " ('Suriname'),\n",
       " ('Slovak Republic'),\n",
       " ('Slovenia'),\n",
       " ('Sweden'),\n",
       " ('Eswatini'),\n",
       " ('Sint Maarten (Dutch part)'),\n",
       " ('Seychelles'),\n",
       " ('Syrian Arab Republic'),\n",
       " ('Turks and Caicos Islands'),\n",
       " ('Chad'),\n",
       " ('Togo'),\n",
       " ('Thailand'),\n",
       " ('Tajikistan'),\n",
       " ('Turkmenistan'),\n",
       " ('Timor-Leste'),\n",
       " ('Tonga'),\n",
       " ('Trinidad and Tobago'),\n",
       " ('Tunisia'),\n",
       " ('Turkey'),\n",
       " ('Tuvalu'),\n",
       " (None),\n",
       " ('Tanzania'),\n",
       " ('Uganda'),\n",
       " ('Ukraine'),\n",
       " ('Uruguay'),\n",
       " ('United States'),\n",
       " ('Uzbekistan'),\n",
       " ('St. Vincent and the Grenadines'),\n",
       " ('Venezuela, RB'),\n",
       " ('British Virgin Islands'),\n",
       " ('Virgin Islands (U.S.)'),\n",
       " ('Vietnam'),\n",
       " ('Vanuatu'),\n",
       " ('Samoa'),\n",
       " ('Kosovo'),\n",
       " ('Yemen, Rep.'),\n",
       " ('South Africa'),\n",
       " ('Zambia'),\n",
       " ('Zimbabwe')]"
      ]
     },
     "execution_count": 30,
     "metadata": {},
     "output_type": "execute_result"
    }
   ],
   "source": [
    "session.query(demo.country).all()"
   ]
  },
  {
   "cell_type": "code",
   "execution_count": 33,
   "metadata": {},
   "outputs": [
    {
     "ename": "NameError",
     "evalue": "name 'func' is not defined",
     "output_type": "error",
     "traceback": [
      "\u001b[1;31m---------------------------------------------------------------------------\u001b[0m",
      "\u001b[1;31mNameError\u001b[0m                                 Traceback (most recent call last)",
      "\u001b[1;32m<ipython-input-33-63dc21d762d8>\u001b[0m in \u001b[0;36m<module>\u001b[1;34m\u001b[0m\n\u001b[0;32m      1\u001b[0m sel = [demo.region_id,\n\u001b[1;32m----> 2\u001b[1;33m             \u001b[0mfunc\u001b[0m\u001b[1;33m.\u001b[0m\u001b[0mavg\u001b[0m\u001b[1;33m(\u001b[0m\u001b[0mdemo\u001b[0m\u001b[1;33m.\u001b[0m\u001b[0mgdp\u001b[0m\u001b[1;33m)\u001b[0m\u001b[1;33m,\u001b[0m\u001b[1;33m\u001b[0m\u001b[1;33m\u001b[0m\u001b[0m\n\u001b[0m\u001b[0;32m      3\u001b[0m             func.avg(demo.population)]\n\u001b[0;32m      4\u001b[0m \u001b[0mdata\u001b[0m \u001b[1;33m=\u001b[0m \u001b[0msession\u001b[0m\u001b[1;33m.\u001b[0m\u001b[0mquery\u001b[0m\u001b[1;33m(\u001b[0m\u001b[1;33m*\u001b[0m\u001b[0msel\u001b[0m\u001b[1;33m)\u001b[0m\u001b[1;33m.\u001b[0m\u001b[0;31m\\\u001b[0m\u001b[1;33m\u001b[0m\u001b[1;33m\u001b[0m\u001b[0m\n\u001b[0;32m      5\u001b[0m         \u001b[0mgroup_by\u001b[0m\u001b[1;33m(\u001b[0m\u001b[0mdemo\u001b[0m\u001b[1;33m.\u001b[0m\u001b[0mregion_id\u001b[0m\u001b[1;33m)\u001b[0m\u001b[1;33m.\u001b[0m\u001b[0;31m\\\u001b[0m\u001b[1;33m\u001b[0m\u001b[1;33m\u001b[0m\u001b[0m\n",
      "\u001b[1;31mNameError\u001b[0m: name 'func' is not defined"
     ]
    }
   ],
   "source": [
    "sel = [demo.region_id,\n",
    "            func.avg(demo.gdp),\n",
    "            func.avg(demo.population)]\n",
    "data = session.query(*sel).\\\n",
    "        group_by(demo.region_id).\\\n",
    "        order_by(func.avg(demo.gdp)).all()"
   ]
  },
  {
   "cell_type": "code",
   "execution_count": null,
   "metadata": {},
   "outputs": [],
   "source": [
    "print(data)"
   ]
  },
  {
   "cell_type": "code",
   "execution_count": null,
   "metadata": {},
   "outputs": [],
   "source": []
  }
 ],
 "metadata": {
  "kernelspec": {
   "display_name": "Python 3",
   "language": "python",
   "name": "python3"
  },
  "language_info": {
   "codemirror_mode": {
    "name": "ipython",
    "version": 3
   },
   "file_extension": ".py",
   "mimetype": "text/x-python",
   "name": "python",
   "nbconvert_exporter": "python",
   "pygments_lexer": "ipython3",
   "version": "3.7.1"
  }
 },
 "nbformat": 4,
 "nbformat_minor": 2
}
